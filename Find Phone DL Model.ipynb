{
 "cells": [
  {
   "cell_type": "markdown",
   "metadata": {},
   "source": [
    "## Deep Learning Model for Object Detection."
   ]
  },
  {
   "cell_type": "markdown",
   "metadata": {},
   "source": [
    "### Shrinivas Shetty"
   ]
  },
  {
   "cell_type": "code",
   "execution_count": 1,
   "metadata": {},
   "outputs": [
    {
     "name": "stderr",
     "output_type": "stream",
     "text": [
      "Using TensorFlow backend.\n"
     ]
    }
   ],
   "source": [
    "# Loading dependencies.\n",
    "import os\n",
    "\n",
    "# Data pre-processing libraries.\n",
    "import cv2\n",
    "import numpy as np\n",
    "from sklearn.model_selection import train_test_split\n",
    "\n",
    "# Machine learning modelling libraries.\n",
    "import keras\n",
    "from keras.models import Sequential\n",
    "from keras.layers.convolutional import Conv2D, MaxPooling2D\n",
    "from keras.layers.normalization import BatchNormalization\n",
    "from keras.layers.core import Activation, Flatten, Dropout, Dense\n",
    "from matplotlib import pyplot as plt"
   ]
  },
  {
   "cell_type": "markdown",
   "metadata": {},
   "source": [
    "#### Accessing data files."
   ]
  },
  {
   "cell_type": "code",
   "execution_count": 2,
   "metadata": {},
   "outputs": [],
   "source": [
    "cwd = os.getcwd()\n",
    "label_data = []\n",
    "for file in os.listdir(cwd):\n",
    "    if file.endswith(\".txt\"):\n",
    "        with open(\"labels.txt\") as file:\n",
    "            for line in file:\n",
    "                data_line = [l.strip() for l in line.split(' ')]\n",
    "                label_data.append(data_line)"
   ]
  },
  {
   "cell_type": "markdown",
   "metadata": {},
   "source": [
    "#### Processing Image files."
   ]
  },
  {
   "cell_type": "code",
   "execution_count": 3,
   "metadata": {},
   "outputs": [],
   "source": [
    "X = []\n",
    "Y = []\n",
    "for l in label_data:\n",
    "    img = cv2.imread(l[0])\n",
    "    resized_image = cv2.resize(img, (64, 64))\n",
    "    X.append(resized_image.tolist())\n",
    "    Y.append([float(l[1]), float(l[2])])"
   ]
  },
  {
   "cell_type": "code",
   "execution_count": 4,
   "metadata": {},
   "outputs": [
    {
     "data": {
      "text/plain": [
       "(129, 64, 64, 3)"
      ]
     },
     "execution_count": 4,
     "metadata": {},
     "output_type": "execute_result"
    }
   ],
   "source": [
    "X = np.asarray(X)\n",
    "Y = np.asarray(Y)\n",
    "X.shape"
   ]
  },
  {
   "cell_type": "markdown",
   "metadata": {},
   "source": [
    "#### Rescaling pixel values between 0 and 1."
   ]
  },
  {
   "cell_type": "code",
   "execution_count": 5,
   "metadata": {},
   "outputs": [],
   "source": [
    "X = np.interp(X, (X.min(), X.max()), (0, 1))"
   ]
  },
  {
   "cell_type": "markdown",
   "metadata": {},
   "source": [
    "#### Splitting data into training and test sets.\n"
   ]
  },
  {
   "cell_type": "code",
   "execution_count": 6,
   "metadata": {},
   "outputs": [],
   "source": [
    "(train_X, test_X, train_y, test_y) = train_test_split(X, Y, test_size=0.25, random_state=42)"
   ]
  },
  {
   "cell_type": "markdown",
   "metadata": {},
   "source": [
    "#### Model input parameters."
   ]
  },
  {
   "cell_type": "code",
   "execution_count": 7,
   "metadata": {},
   "outputs": [
    {
     "data": {
      "text/plain": [
       "(64, 64, 3)"
      ]
     },
     "execution_count": 7,
     "metadata": {},
     "output_type": "execute_result"
    }
   ],
   "source": [
    "height = X.shape[-2]\n",
    "width = X.shape[-3]\n",
    "depth = X.shape[-1]\n",
    "inputShape = (height, width, depth)\n",
    "inputShape"
   ]
  },
  {
   "cell_type": "markdown",
   "metadata": {},
   "source": [
    "#### Deep Learning Architecture."
   ]
  },
  {
   "cell_type": "code",
   "execution_count": 8,
   "metadata": {},
   "outputs": [
    {
     "name": "stdout",
     "output_type": "stream",
     "text": [
      "WARNING:tensorflow:From C:\\ProgramData\\Anaconda3\\lib\\site-packages\\tensorflow\\python\\framework\\op_def_library.py:263: colocate_with (from tensorflow.python.framework.ops) is deprecated and will be removed in a future version.\n",
      "Instructions for updating:\n",
      "Colocations handled automatically by placer.\n",
      "WARNING:tensorflow:From C:\\ProgramData\\Anaconda3\\lib\\site-packages\\keras\\backend\\tensorflow_backend.py:3445: calling dropout (from tensorflow.python.ops.nn_ops) with keep_prob is deprecated and will be removed in a future version.\n",
      "Instructions for updating:\n",
      "Please use `rate` instead of `keep_prob`. Rate should be set to `rate = 1 - keep_prob`.\n",
      "_________________________________________________________________\n",
      "Layer (type)                 Output Shape              Param #   \n",
      "=================================================================\n",
      "conv2d_1 (Conv2D)            (None, 64, 64, 32)        896       \n",
      "_________________________________________________________________\n",
      "activation_1 (Activation)    (None, 64, 64, 32)        0         \n",
      "_________________________________________________________________\n",
      "batch_normalization_1 (Batch (None, 64, 64, 32)        128       \n",
      "_________________________________________________________________\n",
      "max_pooling2d_1 (MaxPooling2 (None, 32, 32, 32)        0         \n",
      "_________________________________________________________________\n",
      "dropout_1 (Dropout)          (None, 32, 32, 32)        0         \n",
      "_________________________________________________________________\n",
      "conv2d_2 (Conv2D)            (None, 32, 32, 64)        18496     \n",
      "_________________________________________________________________\n",
      "activation_2 (Activation)    (None, 32, 32, 64)        0         \n",
      "_________________________________________________________________\n",
      "batch_normalization_2 (Batch (None, 32, 32, 64)        256       \n",
      "_________________________________________________________________\n",
      "max_pooling2d_2 (MaxPooling2 (None, 16, 16, 64)        0         \n",
      "_________________________________________________________________\n",
      "dropout_2 (Dropout)          (None, 16, 16, 64)        0         \n",
      "_________________________________________________________________\n",
      "conv2d_3 (Conv2D)            (None, 16, 16, 64)        36928     \n",
      "_________________________________________________________________\n",
      "activation_3 (Activation)    (None, 16, 16, 64)        0         \n",
      "_________________________________________________________________\n",
      "batch_normalization_3 (Batch (None, 16, 16, 64)        256       \n",
      "_________________________________________________________________\n",
      "max_pooling2d_3 (MaxPooling2 (None, 8, 8, 64)          0         \n",
      "_________________________________________________________________\n",
      "dropout_3 (Dropout)          (None, 8, 8, 64)          0         \n",
      "_________________________________________________________________\n",
      "flatten_1 (Flatten)          (None, 4096)              0         \n",
      "_________________________________________________________________\n",
      "dense_1 (Dense)              (None, 256)               1048832   \n",
      "_________________________________________________________________\n",
      "activation_4 (Activation)    (None, 256)               0         \n",
      "_________________________________________________________________\n",
      "dense_2 (Dense)              (None, 128)               32896     \n",
      "_________________________________________________________________\n",
      "activation_5 (Activation)    (None, 128)               0         \n",
      "_________________________________________________________________\n",
      "dense_3 (Dense)              (None, 2)                 258       \n",
      "=================================================================\n",
      "Total params: 1,138,946\n",
      "Trainable params: 1,138,626\n",
      "Non-trainable params: 320\n",
      "_________________________________________________________________\n"
     ]
    }
   ],
   "source": [
    "model = Sequential()\n",
    "model.add(Conv2D(32, (3, 3), padding=\"same\", input_shape=inputShape))\n",
    "model.add(Activation(\"relu\"))\n",
    "model.add(BatchNormalization())\n",
    "model.add(MaxPooling2D(pool_size=(2, 2)))\n",
    "model.add(Dropout(0.30))\n",
    "\n",
    "model.add(Conv2D(64, (3, 3), padding=\"same\"))\n",
    "model.add(Activation(\"relu\"))\n",
    "model.add(BatchNormalization())\n",
    "model.add(MaxPooling2D(pool_size=(2, 2)))\n",
    "model.add(Dropout(0.30))\n",
    "\n",
    "model.add(Conv2D(64, (3, 3), padding=\"same\"))\n",
    "model.add(Activation(\"relu\"))\n",
    "model.add(BatchNormalization())\n",
    "model.add(MaxPooling2D(pool_size=(2, 2)))\n",
    "model.add(Dropout(0.30))\n",
    "\n",
    "model.add(Flatten())\n",
    "model.add(Dense(256))\n",
    "model.add(Activation(\"sigmoid\"))\n",
    "\n",
    "model.add(Dense(128))\n",
    "model.add(Activation(\"sigmoid\"))\n",
    "\n",
    "model.add(Dense(Y.shape[-1]))\n",
    "model.summary()"
   ]
  },
  {
   "cell_type": "markdown",
   "metadata": {},
   "source": [
    "#### Compiling the model."
   ]
  },
  {
   "cell_type": "code",
   "execution_count": 9,
   "metadata": {
    "scrolled": false
   },
   "outputs": [
    {
     "name": "stdout",
     "output_type": "stream",
     "text": [
      "WARNING:tensorflow:From C:\\ProgramData\\Anaconda3\\lib\\site-packages\\tensorflow\\python\\ops\\math_ops.py:3066: to_int32 (from tensorflow.python.ops.math_ops) is deprecated and will be removed in a future version.\n",
      "Instructions for updating:\n",
      "Use tf.cast instead.\n",
      "Train on 96 samples, validate on 33 samples\n",
      "Epoch 1/50\n",
      "96/96 [==============================] - 4s 46ms/step - loss: 0.2288 - acc: 0.4479 - val_loss: 0.0897 - val_acc: 0.6667\n",
      "Epoch 2/50\n",
      "96/96 [==============================] - 3s 34ms/step - loss: 0.0607 - acc: 0.5833 - val_loss: 0.1271 - val_acc: 0.4545\n",
      "Epoch 3/50\n",
      "96/96 [==============================] - 3s 35ms/step - loss: 0.0440 - acc: 0.6562 - val_loss: 0.0888 - val_acc: 0.4545\n",
      "Epoch 4/50\n",
      "96/96 [==============================] - 3s 35ms/step - loss: 0.0367 - acc: 0.7292 - val_loss: 0.0982 - val_acc: 0.5455\n",
      "Epoch 5/50\n",
      "96/96 [==============================] - 3s 34ms/step - loss: 0.0321 - acc: 0.7500 - val_loss: 0.0809 - val_acc: 0.5455\n",
      "Epoch 6/50\n",
      "96/96 [==============================] - 3s 34ms/step - loss: 0.0321 - acc: 0.7396 - val_loss: 0.0748 - val_acc: 0.5455\n",
      "Epoch 7/50\n",
      "96/96 [==============================] - 3s 34ms/step - loss: 0.0217 - acc: 0.8229 - val_loss: 0.0725 - val_acc: 0.5455\n",
      "Epoch 8/50\n",
      "96/96 [==============================] - 3s 34ms/step - loss: 0.0196 - acc: 0.7604 - val_loss: 0.0584 - val_acc: 0.6667\n",
      "Epoch 9/50\n",
      "96/96 [==============================] - 3s 34ms/step - loss: 0.0165 - acc: 0.8125 - val_loss: 0.0562 - val_acc: 0.6364\n",
      "Epoch 10/50\n",
      "96/96 [==============================] - 3s 36ms/step - loss: 0.0106 - acc: 0.8125 - val_loss: 0.0582 - val_acc: 0.6667\n",
      "Epoch 11/50\n",
      "96/96 [==============================] - 3s 34ms/step - loss: 0.0096 - acc: 0.8438 - val_loss: 0.0505 - val_acc: 0.6061\n",
      "Epoch 12/50\n",
      "96/96 [==============================] - 4s 37ms/step - loss: 0.0071 - acc: 0.9062 - val_loss: 0.0457 - val_acc: 0.6364\n",
      "Epoch 13/50\n",
      "96/96 [==============================] - 3s 36ms/step - loss: 0.0082 - acc: 0.8021 - val_loss: 0.0462 - val_acc: 0.6061\n",
      "Epoch 14/50\n",
      "96/96 [==============================] - 3s 36ms/step - loss: 0.0085 - acc: 0.8438 - val_loss: 0.0550 - val_acc: 0.6970\n",
      "Epoch 15/50\n",
      "96/96 [==============================] - 4s 40ms/step - loss: 0.0064 - acc: 0.8958 - val_loss: 0.0517 - val_acc: 0.5758\n",
      "Epoch 16/50\n",
      "96/96 [==============================] - 3s 36ms/step - loss: 0.0051 - acc: 0.9167 - val_loss: 0.0496 - val_acc: 0.6970\n",
      "Epoch 17/50\n",
      "96/96 [==============================] - 4s 38ms/step - loss: 0.0054 - acc: 0.9062 - val_loss: 0.0621 - val_acc: 0.6970\n",
      "Epoch 18/50\n",
      "96/96 [==============================] - 4s 37ms/step - loss: 0.0047 - acc: 0.8854 - val_loss: 0.0454 - val_acc: 0.7273\n",
      "Epoch 19/50\n",
      "96/96 [==============================] - 3s 36ms/step - loss: 0.0036 - acc: 0.9167 - val_loss: 0.0491 - val_acc: 0.6364\n",
      "Epoch 20/50\n",
      "96/96 [==============================] - 3s 34ms/step - loss: 0.0036 - acc: 0.8542 - val_loss: 0.0517 - val_acc: 0.5758\n",
      "Epoch 21/50\n",
      "96/96 [==============================] - 4s 37ms/step - loss: 0.0036 - acc: 0.9167 - val_loss: 0.0490 - val_acc: 0.6667\n",
      "Epoch 22/50\n",
      "96/96 [==============================] - 3s 34ms/step - loss: 0.0036 - acc: 0.9375 - val_loss: 0.0460 - val_acc: 0.6061\n",
      "Epoch 23/50\n",
      "96/96 [==============================] - 3s 33ms/step - loss: 0.0033 - acc: 0.8854 - val_loss: 0.0474 - val_acc: 0.6970\n",
      "Epoch 24/50\n",
      "96/96 [==============================] - 3s 34ms/step - loss: 0.0022 - acc: 0.8750 - val_loss: 0.0489 - val_acc: 0.6061\n",
      "Epoch 25/50\n",
      "96/96 [==============================] - 3s 35ms/step - loss: 0.0034 - acc: 0.9167 - val_loss: 0.0549 - val_acc: 0.6061\n",
      "Epoch 26/50\n",
      "96/96 [==============================] - 4s 37ms/step - loss: 0.0030 - acc: 0.9167 - val_loss: 0.0498 - val_acc: 0.6667\n",
      "Epoch 27/50\n",
      "96/96 [==============================] - 4s 37ms/step - loss: 0.0030 - acc: 0.9167 - val_loss: 0.0419 - val_acc: 0.6667\n",
      "Epoch 28/50\n",
      "96/96 [==============================] - 3s 36ms/step - loss: 0.0035 - acc: 0.9375 - val_loss: 0.0365 - val_acc: 0.6970\n",
      "Epoch 29/50\n",
      "96/96 [==============================] - 3s 35ms/step - loss: 0.0028 - acc: 0.8958 - val_loss: 0.0441 - val_acc: 0.6364\n",
      "Epoch 30/50\n",
      "96/96 [==============================] - 3s 35ms/step - loss: 0.0017 - acc: 0.9167 - val_loss: 0.0429 - val_acc: 0.6061\n",
      "Epoch 31/50\n",
      "96/96 [==============================] - 3s 35ms/step - loss: 0.0019 - acc: 0.9792 - val_loss: 0.0419 - val_acc: 0.6364\n",
      "Epoch 32/50\n",
      "96/96 [==============================] - 3s 36ms/step - loss: 0.0029 - acc: 0.9167 - val_loss: 0.0494 - val_acc: 0.6364\n",
      "Epoch 33/50\n",
      "96/96 [==============================] - 3s 33ms/step - loss: 0.0023 - acc: 0.9375 - val_loss: 0.0456 - val_acc: 0.6364\n",
      "Epoch 34/50\n",
      "96/96 [==============================] - 3s 33ms/step - loss: 0.0022 - acc: 0.9479 - val_loss: 0.0383 - val_acc: 0.6667\n",
      "Epoch 35/50\n",
      "96/96 [==============================] - 3s 35ms/step - loss: 0.0023 - acc: 0.9375 - val_loss: 0.0335 - val_acc: 0.6970\n",
      "Epoch 36/50\n",
      "96/96 [==============================] - 3s 34ms/step - loss: 0.0022 - acc: 0.8958 - val_loss: 0.0347 - val_acc: 0.6364\n",
      "Epoch 37/50\n",
      "96/96 [==============================] - 4s 36ms/step - loss: 0.0018 - acc: 0.9479 - val_loss: 0.0353 - val_acc: 0.6364\n",
      "Epoch 38/50\n",
      "96/96 [==============================] - 4s 37ms/step - loss: 0.0013 - acc: 0.9271 - val_loss: 0.0363 - val_acc: 0.6667\n",
      "Epoch 39/50\n",
      "96/96 [==============================] - 3s 34ms/step - loss: 0.0011 - acc: 0.9271 - val_loss: 0.0318 - val_acc: 0.6970\n",
      "Epoch 40/50\n",
      "96/96 [==============================] - 3s 34ms/step - loss: 0.0016 - acc: 0.9375 - val_loss: 0.0318 - val_acc: 0.6970\n",
      "Epoch 41/50\n",
      "96/96 [==============================] - 3s 34ms/step - loss: 0.0012 - acc: 0.9479 - val_loss: 0.0370 - val_acc: 0.6667\n",
      "Epoch 42/50\n",
      "96/96 [==============================] - 3s 35ms/step - loss: 0.0012 - acc: 0.9271 - val_loss: 0.0350 - val_acc: 0.6970\n",
      "Epoch 43/50\n",
      "96/96 [==============================] - 3s 35ms/step - loss: 0.0014 - acc: 0.9062 - val_loss: 0.0353 - val_acc: 0.6364\n",
      "Epoch 44/50\n",
      "96/96 [==============================] - 3s 35ms/step - loss: 0.0016 - acc: 0.9375 - val_loss: 0.0324 - val_acc: 0.6667\n",
      "Epoch 45/50\n",
      "96/96 [==============================] - 4s 37ms/step - loss: 0.0014 - acc: 0.9062 - val_loss: 0.0331 - val_acc: 0.6364\n",
      "Epoch 46/50\n",
      "96/96 [==============================] - 4s 39ms/step - loss: 0.0014 - acc: 0.9583 - val_loss: 0.0295 - val_acc: 0.7879\n",
      "Epoch 47/50\n",
      "96/96 [==============================] - 3s 36ms/step - loss: 0.0010 - acc: 0.9375 - val_loss: 0.0286 - val_acc: 0.7879\n",
      "Epoch 48/50\n",
      "96/96 [==============================] - 3s 36ms/step - loss: 0.0012 - acc: 0.9167 - val_loss: 0.0328 - val_acc: 0.7273\n",
      "Epoch 49/50\n",
      "96/96 [==============================] - 4s 37ms/step - loss: 0.0012 - acc: 0.9167 - val_loss: 0.0305 - val_acc: 0.7879\n",
      "Epoch 50/50\n",
      "96/96 [==============================] - 3s 34ms/step - loss: 0.0010 - acc: 0.9062 - val_loss: 0.0346 - val_acc: 0.6970\n"
     ]
    }
   ],
   "source": [
    "Batch_Size = 8\n",
    "model.compile(loss=\"mse\", optimizer='adam', metrics=[\"accuracy\"])\n",
    "model_history = model.fit(train_X, train_y, epochs=50, verbose=1, batch_size=Batch_Size, validation_data=(test_X, test_y))"
   ]
  },
  {
   "cell_type": "markdown",
   "metadata": {},
   "source": [
    "#### Saving the model."
   ]
  },
  {
   "cell_type": "code",
   "execution_count": 10,
   "metadata": {},
   "outputs": [],
   "source": [
    "model.save('3Conv_2FFN_8_Batch_Model.h5')\n"
   ]
  },
  {
   "cell_type": "markdown",
   "metadata": {},
   "source": [
    "#### Visualizing learning using loss."
   ]
  },
  {
   "cell_type": "code",
   "execution_count": 11,
   "metadata": {},
   "outputs": [
    {
     "data": {
      "image/png": "[encoded data removed]",
      "text/plain": [
       "<Figure size 432x288 with 1 Axes>"
      ]
     },
     "metadata": {
      "needs_background": "light"
     },
     "output_type": "display_data"
    }
   ],
   "source": [
    "fig = plt.figure()\n",
    "fig.suptitle('Loss Plot', fontsize=18)\n",
    "plt.xlabel('Epoch', fontsize=16)\n",
    "plt.ylabel('Loss', fontsize=16)\n",
    "plt.plot(model_history.history['loss'], label='train')\n",
    "plt.plot(model_history.history['val_loss'], label='test')\n",
    "plt.legend()\n",
    "plt.savefig('Loss_Plot.jpg')\n",
    "plt.show()"
   ]
  },
  {
   "cell_type": "markdown",
   "metadata": {},
   "source": [
    "#### Visualizing learning using accuracy."
   ]
  },
  {
   "cell_type": "code",
   "execution_count": 12,
   "metadata": {
    "scrolled": true
   },
   "outputs": [
    {
     "data": {
      "image/png": "[encoded data removed]",
      "text/plain": [
       "<Figure size 432x288 with 1 Axes>"
      ]
     },
     "metadata": {
      "needs_background": "light"
     },
     "output_type": "display_data"
    }
   ],
   "source": [
    "fig = plt.figure()\n",
    "fig.suptitle('Accuracy Plot', fontsize=18)\n",
    "plt.xlabel('Epoch', fontsize=16)\n",
    "plt.ylabel('Accuracy', fontsize=16)\n",
    "plt.plot(model_history.history['acc'], label='train')\n",
    "plt.plot(model_history.history['val_acc'], label='test')\n",
    "plt.legend()\n",
    "plt.savefig('Acc_Plot.jpg')\n",
    "plt.show()"
   ]
  },
  {
   "cell_type": "markdown",
   "metadata": {},
   "source": [
    "#### Making prediction on test dataset."
   ]
  },
  {
   "cell_type": "code",
   "execution_count": 13,
   "metadata": {},
   "outputs": [
    {
     "data": {
      "text/plain": [
       "array([[0.55150175, 0.22067493],\n",
       "       [0.29712003, 0.2704817 ],\n",
       "       [0.72261715, 0.6353834 ],\n",
       "       [0.67026603, 0.54248863],\n",
       "       [0.29404116, 0.5330085 ],\n",
       "       [0.16151528, 0.29914117],\n",
       "       [0.1534795 , 0.85679793],\n",
       "       [0.23665126, 0.3431362 ],\n",
       "       [0.51415527, 0.6263393 ],\n",
       "       [0.6641402 , 0.252468  ],\n",
       "       [0.47650367, 0.42559803],\n",
       "       [0.8694171 , 0.6016264 ],\n",
       "       [0.8064291 , 0.11322865],\n",
       "       [0.7482157 , 0.14107792],\n",
       "       [0.6467223 , 0.4917855 ]], dtype=float32)"
      ]
     },
     "execution_count": 13,
     "metadata": {},
     "output_type": "execute_result"
    }
   ],
   "source": [
    "pred_y = model.predict(test_X)\n",
    "pred_y[0:15]"
   ]
  },
  {
   "cell_type": "markdown",
   "metadata": {},
   "source": [
    "#### Visualizing Error."
   ]
  },
  {
   "cell_type": "code",
   "execution_count": 14,
   "metadata": {},
   "outputs": [
    {
     "data": {
      "text/plain": [
       "array([[-0.00860175,  0.06152507],\n",
       "       [-0.02572003,  0.09151829],\n",
       "       [ 0.11408285,  0.07931657],\n",
       "       [-0.11106603,  0.03421137],\n",
       "       [ 0.12225884,  0.08659148],\n",
       "       [-0.06561528, -0.16414117],\n",
       "       [ 0.1159205 , -0.02239793],\n",
       "       [ 0.10214874,  0.10166381],\n",
       "       [-0.17945527, -0.54963932],\n",
       "       [-0.08044022, -0.04076799],\n",
       "       [-0.02140367,  0.20020197],\n",
       "       [-0.08981707,  0.1437736 ],\n",
       "       [ 0.00787091,  0.14747135],\n",
       "       [ 0.02318432,  0.18412208],\n",
       "       [-0.27942232, -0.2064855 ]])"
      ]
     },
     "execution_count": 14,
     "metadata": {},
     "output_type": "execute_result"
    }
   ],
   "source": [
    "err = test_y - pred_y\n",
    "err[0:15]"
   ]
  }
 ],
 "metadata": {
  "kernelspec": {
   "display_name": "Python 3",
   "language": "python",
   "name": "python3"
  },
  "language_info": {
   "codemirror_mode": {
    "name": "ipython",
    "version": 3
   },
   "file_extension": ".py",
   "mimetype": "text/x-python",
   "name": "python",
   "nbconvert_exporter": "python",
   "pygments_lexer": "ipython3",
   "version": "3.7.1"
  }
 },
 "nbformat": 4,
 "nbformat_minor": 2
}
